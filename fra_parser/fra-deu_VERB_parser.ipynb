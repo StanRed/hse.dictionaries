{
 "cells": [
  {
   "cell_type": "code",
   "execution_count": 1,
   "metadata": {
    "collapsed": true
   },
   "outputs": [],
   "source": [
    "# загружаем словарь\n",
    "# !!! словарь должен быть в той же папке, что и этот файл !!!\n",
    "from lxml import etree\n",
    "with open('fra-deu.tei', encoding='utf-8') as f:\n",
    "    text = f.read()\n",
    "root = etree.fromstring(text)"
   ]
  },
  {
   "cell_type": "code",
   "execution_count": 2,
   "metadata": {},
   "outputs": [
    {
     "name": "stdout",
     "output_type": "stream",
     "text": [
      "29337 entries\n"
     ]
    }
   ],
   "source": [
    "# найдём все узлы с тэгом entry\n",
    "entries = root.xpath('.//entry')\n",
    "\n",
    "# проверяем количество вхождений\n",
    "print(len(entries), 'entries')"
   ]
  },
  {
   "cell_type": "code",
   "execution_count": 3,
   "metadata": {
    "collapsed": true
   },
   "outputs": [],
   "source": [
    "# загружаем датафрейм с формами глаголов третьей группы\n",
    "import pandas as pd\n",
    "df = pd.read_csv('third_group_verbs_table.csv')\n",
    "third_group_verbs_list = [i for i in df.lemma]"
   ]
  },
  {
   "cell_type": "code",
   "execution_count": 4,
   "metadata": {
    "collapsed": true
   },
   "outputs": [],
   "source": [
    "# функция, распределяющая все глаголы по группам\n",
    "first_group = []\n",
    "second_group = []\n",
    "lost_verbs = []\n",
    "unidentified_verbs = []\n",
    "def identify(w):\n",
    "    if w in third_group_verbs_list:\n",
    "        return ['3nd group',\n",
    "                df.présent[df.lemma==w][third_group_verbs_list.index(w)],\n",
    "                df.passécomposé[df.lemma==w][third_group_verbs_list.index(w)],\n",
    "                df.futur[df.lemma==w][third_group_verbs_list.index(w)],\n",
    "                df.subjonctif[df.lemma==w][third_group_verbs_list.index(w)]]\n",
    "    elif (w[:6] == 'se la '):\n",
    "        return ['is conjugated like ' + w[6:].split(' ')[0]]\n",
    "    elif (w[:3] == 'se '):\n",
    "        return ['is conjugated like ' + w[3:].split(' ')[0]]\n",
    "    elif (w[:5] == \"s’en \"):\n",
    "        return ['is conjugated like ' + w[5:].split(' ')[0]]\n",
    "    elif (w[:2] == \"s’\"):\n",
    "        return ['is conjugated like ' + w[2:].split(' ')[0]]\n",
    "    elif (w[-2:] == 'ir' or w[-2:] == 'ïr')  and ' ' not in w:\n",
    "        second_group.append(w)\n",
    "        return ['2nd group']\n",
    "    elif w[-2:] == 'er' and ' ' not in w:\n",
    "        first_group.append(w)\n",
    "        return ['1st group']\n",
    "    elif ' ' not in w:\n",
    "        return []\n",
    "        lost_verbs.append(w)\n",
    "    else:\n",
    "        return []\n",
    "        unidentified_verbs.append(w)"
   ]
  },
  {
   "cell_type": "code",
   "execution_count": 5,
   "metadata": {},
   "outputs": [
    {
     "name": "stdout",
     "output_type": "stream",
     "text": [
      "['3nd group', 'je sors, nous sortons', 'je suis sorti', 'je sortirai', 'que je sorte']\n"
     ]
    }
   ],
   "source": [
    "print(identify(str(entries[25158].xpath('.//orth/text()'))[2:-2]))"
   ]
  },
  {
   "cell_type": "code",
   "execution_count": 14,
   "metadata": {
    "collapsed": true
   },
   "outputs": [],
   "source": [
    "#all_verbs_elements_list = [i for i in entries if i.xpath('.//pos/text()') == ['v']]\n",
    "#for v in all_verbs_elements_list:\n",
    "#    w = str(v.xpath('.//orth/text()'))[2:-2]\n",
    "#    print(w, identify(w))"
   ]
  },
  {
   "cell_type": "code",
   "execution_count": 6,
   "metadata": {
    "collapsed": true
   },
   "outputs": [],
   "source": [
    "# прогоняем identify() по всем глаголам и добавляем нужные поля\n",
    "for i in entries:\n",
    "    if i.xpath('.//pos/text()') == ['v']:\n",
    "        lst = identify(str(i.xpath('.//orth/text()'))[2:-2])\n",
    "        if len(lst)>0:\n",
    "            etree.SubElement(i.xpath('.//gramGrp')[0], 'subc').text = lst[0]\n",
    "            if len(lst)>1:\n",
    "                new = etree.SubElement(i, 'form')\n",
    "                new.set('type', 'inflected')\n",
    "                for j in lst[1:]:\n",
    "                    etree.SubElement(new, 'orth').text = j\n",
    "                i.append(new)"
   ]
  },
  {
   "cell_type": "code",
   "execution_count": 7,
   "metadata": {
    "collapsed": true
   },
   "outputs": [],
   "source": [
    "# наводим красоту\n",
    "def indent(elem, level=0):\n",
    "    i = \"\\n\" + level*\"  \"\n",
    "    if len(elem):\n",
    "        if not elem.text or not elem.text.strip():\n",
    "            elem.text = i + \"  \"\n",
    "        if not elem.tail or not elem.tail.strip():\n",
    "            elem.tail = i\n",
    "        for elem in elem:\n",
    "            indent(elem, level+1)\n",
    "        if not elem.tail or not elem.tail.strip():\n",
    "            elem.tail = i\n",
    "    else:\n",
    "        if level and (not elem.tail or not elem.tail.strip()):\n",
    "            elem.tail = i\n",
    "\n",
    "indent(root)"
   ]
  },
  {
   "cell_type": "code",
   "execution_count": 8,
   "metadata": {},
   "outputs": [
    {
     "name": "stdout",
     "output_type": "stream",
     "text": [
      "<entry>\n",
      "        <form>\n",
      "          <orth>être</orth>\n",
      "        </form>\n",
      "        <gramGrp>\n",
      "          <pos>v</pos>\n",
      "          <subc>3nd group</subc>\n",
      "        </gramGrp>\n",
      "        <sense n=\"1\">\n",
      "          <usg type=\"hint\">Copule</usg>\n",
      "          <cit type=\"trans\" xml:lang=\"de\">\n",
      "            <quote>sein</quote>\n",
      "          </cit>\n",
      "        </sense>\n",
      "        <sense n=\"2\">\n",
      "          <usg type=\"hint\">Se trouver dans une location, une situation</usg>\n",
      "          <cit type=\"trans\" xml:lang=\"de\">\n",
      "            <quote>sein</quote>\n",
      "          </cit>\n",
      "        </sense>\n",
      "        <sense n=\"3\">\n",
      "          <usg type=\"hint\">Auxiliaire passif</usg>\n",
      "          <cit type=\"trans\" xml:lang=\"de\">\n",
      "            <quote>sein</quote>\n",
      "          </cit>\n",
      "        </sense>\n",
      "        <form type=\"inflected\">\n",
      "          <orth>je suis, nous sommes</orth>\n",
      "          <orth>j’ai été</orth>\n",
      "          <orth>je serai</orth>\n",
      "          <orth>que je sois, que nous soyons</orth>\n",
      "        </form>\n",
      "      </entry>\n",
      "      \n",
      "\n",
      "<entry>\n",
      "        <form>\n",
      "          <orth>tourner</orth>\n",
      "        </form>\n",
      "        <gramGrp>\n",
      "          <pos>v</pos>\n",
      "          <subc>1st group</subc>\n",
      "        </gramGrp>\n",
      "        <sense n=\"1\">\n",
      "          <usg type=\"hint\"/>\n",
      "          <cit type=\"trans\" xml:lang=\"de\">\n",
      "            <quote>drehen</quote>\n",
      "            <quote>umdrehen</quote>\n",
      "            <quote>wenden</quote>\n",
      "            <quote>drechseln</quote>\n",
      "            <quote>kehren</quote>\n",
      "            <quote>umwenden</quote>\n",
      "          </cit>\n",
      "        </sense>\n",
      "        <sense n=\"2\">\n",
      "          <usg type=\"hint\">Filmer</usg>\n",
      "          <cit type=\"trans\" xml:lang=\"de\">\n",
      "            <quote>drehen</quote>\n",
      "          </cit>\n",
      "        </sense>\n",
      "        <sense n=\"3\">\n",
      "          <usg type=\"hint\">Inverser</usg>\n",
      "          <cit type=\"trans\" xml:lang=\"de\">\n",
      "            <quote>umschlagen</quote>\n",
      "          </cit>\n",
      "        </sense>\n",
      "      </entry>\n",
      "      \n",
      "\n"
     ]
    }
   ],
   "source": [
    "# проверяем\n",
    "print(etree.tostring(entries[-103], encoding='utf-8', pretty_print=True).decode())\n",
    "print(etree.tostring(entries[26689], encoding='utf-8', pretty_print=True).decode())"
   ]
  },
  {
   "cell_type": "code",
   "execution_count": 9,
   "metadata": {
    "collapsed": true
   },
   "outputs": [],
   "source": [
    "# записываем результат в файл\n",
    "et = etree.ElementTree(root)\n",
    "et.write('fra-deu_parsed.tei', encoding = 'utf-8', pretty_print=True)"
   ]
  }
 ],
 "metadata": {
  "kernelspec": {
   "display_name": "Python 3",
   "language": "python",
   "name": "python3"
  },
  "language_info": {
   "codemirror_mode": {
    "name": "ipython",
    "version": 3
   },
   "file_extension": ".py",
   "mimetype": "text/x-python",
   "name": "python",
   "nbconvert_exporter": "python",
   "pygments_lexer": "ipython3",
   "version": "3.5.4"
  }
 },
 "nbformat": 4,
 "nbformat_minor": 2
}
